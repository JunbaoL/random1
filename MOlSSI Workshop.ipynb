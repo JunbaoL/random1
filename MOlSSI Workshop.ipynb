{
 "cells": [
  {
   "cell_type": "markdown",
   "id": "f511a8d7",
   "metadata": {},
   "source": [
    "# MolSSI Workshop\n",
    "## Introduction\n",
    "\n",
    "This lesson covers Python basics like variable creation and assignment and using the Jupyter notebook"
   ]
  },
  {
   "cell_type": "code",
   "execution_count": 2,
   "id": "548b21c5",
   "metadata": {},
   "outputs": [
    {
     "data": {
      "text/plain": [
       "10"
      ]
     },
     "execution_count": 2,
     "metadata": {},
     "output_type": "execute_result"
    }
   ],
   "source": [
    "3+7"
   ]
  },
  {
   "cell_type": "code",
   "execution_count": 11,
   "id": "527a5d93",
   "metadata": {},
   "outputs": [
    {
     "name": "stdout",
     "output_type": "stream",
     "text": [
      "-3640.8\n"
     ]
    }
   ],
   "source": [
    "deltaH = -541.6   #kJ/mole\n",
    "deltaS =  10.4     #kJ/(mole K)\n",
    "temp = 298      #Kelvin\n",
    "deltaG = deltaH - temp * deltaS\n",
    "print(deltaG)"
   ]
  },
  {
   "cell_type": "code",
   "execution_count": 12,
   "id": "a35481a3",
   "metadata": {},
   "outputs": [
    {
     "name": "stdout",
     "output_type": "stream",
     "text": [
      "-3640.8\n",
      "-3640800.0\n"
     ]
    }
   ],
   "source": [
    "print(deltaG)\n",
    "deltaG = deltaG * 1000\n",
    "print(deltaG)\n"
   ]
  },
  {
   "cell_type": "code",
   "execution_count": 14,
   "id": "cf3e37be",
   "metadata": {},
   "outputs": [
    {
     "data": {
      "text/plain": [
       "float"
      ]
     },
     "execution_count": 14,
     "metadata": {},
     "output_type": "execute_result"
    }
   ],
   "source": [
    "type(deltaG)"
   ]
  },
  {
   "cell_type": "code",
   "execution_count": 15,
   "id": "dfcfcefc",
   "metadata": {},
   "outputs": [
    {
     "data": {
      "text/plain": [
       "str"
      ]
     },
     "execution_count": 15,
     "metadata": {},
     "output_type": "execute_result"
    }
   ],
   "source": [
    "deltaG_string=str(deltaG)\n",
    "type(deltaG_string)"
   ]
  },
  {
   "cell_type": "code",
   "execution_count": 16,
   "id": "10e79c94",
   "metadata": {},
   "outputs": [
    {
     "name": "stdout",
     "output_type": "stream",
     "text": [
      "The length of this list is 4\n"
     ]
    }
   ],
   "source": [
    "energy_kcal=[-13.4, -2.7, 5.4, 42.1]\n",
    "energy_length=len(energy_kcal)\n",
    "print('The length of this list is', energy_length)"
   ]
  },
  {
   "cell_type": "code",
   "execution_count": 19,
   "id": "15eb0de2",
   "metadata": {},
   "outputs": [
    {
     "name": "stdout",
     "output_type": "stream",
     "text": [
      "[-13.4, -2.7, 5.4]\n"
     ]
    }
   ],
   "source": [
    "short_list=energy_kcal[0:3]\n",
    "print(short_list)"
   ]
  },
  {
   "cell_type": "code",
   "execution_count": 25,
   "id": "2f6431e0",
   "metadata": {},
   "outputs": [
    {
     "name": "stdout",
     "output_type": "stream",
     "text": [
      "736.9965376\n"
     ]
    }
   ],
   "source": [
    "energy_KJ = []\n",
    "for number in energy_kcal:\n",
    "    KJ = number * 4.184\n",
    "    energy_KJ.append(KJ)\n",
    "    \n",
    "print(KJ)"
   ]
  },
  {
   "cell_type": "code",
   "execution_count": 22,
   "id": "f786fe94",
   "metadata": {},
   "outputs": [],
   "source": [
    "energy_kcal.append(KJ)"
   ]
  },
  {
   "cell_type": "code",
   "execution_count": 23,
   "id": "4bd6aa59",
   "metadata": {},
   "outputs": [
    {
     "name": "stdout",
     "output_type": "stream",
     "text": [
      "[-13.4, -2.7, 5.4, 42.1, 176.1464]\n"
     ]
    }
   ],
   "source": [
    "print(energy_kcal)"
   ]
  },
  {
   "cell_type": "code",
   "execution_count": 26,
   "id": "01948a87",
   "metadata": {},
   "outputs": [
    {
     "name": "stdout",
     "output_type": "stream",
     "text": [
      "[-56.0656, -11.296800000000001, 22.593600000000002, 176.1464, 736.9965376]\n"
     ]
    }
   ],
   "source": [
    "print(energy_KJ)"
   ]
  },
  {
   "cell_type": "code",
   "execution_count": 33,
   "id": "563420e0",
   "metadata": {},
   "outputs": [
    {
     "name": "stdout",
     "output_type": "stream",
     "text": [
      "[]\n"
     ]
    }
   ],
   "source": [
    "negative_energy_KJ = []\n",
    "\n",
    "for number in energy_KJ:\n",
    "    if  number == 0:\n",
    "        negative_energy_KJ.append(number)\n",
    "        \n",
    "print(negative_energy_KJ)"
   ]
  },
  {
   "cell_type": "code",
   "execution_count": 38,
   "id": "7f5f3e98",
   "metadata": {},
   "outputs": [
    {
     "name": "stdout",
     "output_type": "stream",
     "text": [
      "[-12.5, 14.4, 8.1, 42.0]\n"
     ]
    }
   ],
   "source": [
    "data_list = ['-12.5', 14.4, 8.1, '42']\n",
    "number_list = []\n",
    "for number in data_list:\n",
    "    if type(number) is str:\n",
    "        number = float(number)\n",
    "    number_list.append(number)\n",
    "print(number_list)\n",
    "    "
   ]
  },
  {
   "cell_type": "code",
   "execution_count": null,
   "id": "e7630123",
   "metadata": {},
   "outputs": [],
   "source": []
  }
 ],
 "metadata": {
  "kernelspec": {
   "display_name": "Python 3 (ipykernel)",
   "language": "python",
   "name": "python3"
  },
  "language_info": {
   "codemirror_mode": {
    "name": "ipython",
    "version": 3
   },
   "file_extension": ".py",
   "mimetype": "text/x-python",
   "name": "python",
   "nbconvert_exporter": "python",
   "pygments_lexer": "ipython3",
   "version": "3.9.12"
  }
 },
 "nbformat": 4,
 "nbformat_minor": 5
}
